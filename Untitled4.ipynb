{
  "nbformat": 4,
  "nbformat_minor": 0,
  "metadata": {
    "colab": {
      "name": "Untitled4.ipynb",
      "provenance": [],
      "authorship_tag": "ABX9TyOBkdj/G+YbFgq8g7/Qaobq",
      "include_colab_link": true
    },
    "kernelspec": {
      "name": "python3",
      "display_name": "Python 3"
    },
    "language_info": {
      "name": "python"
    }
  },
  "cells": [
    {
      "cell_type": "markdown",
      "metadata": {
        "id": "view-in-github",
        "colab_type": "text"
      },
      "source": [
        "<a href=\"https://colab.research.google.com/github/SaiManognya/AI/blob/main/Untitled4.ipynb\" target=\"_parent\"><img src=\"https://colab.research.google.com/assets/colab-badge.svg\" alt=\"Open In Colab\"/></a>"
      ]
    },
    {
      "cell_type": "code",
      "metadata": {
        "id": "twYoeZqLnpO9"
      },
      "source": [
        "#Import necessary modules\n",
        "import numpy as np\n",
        "import pandas as pd\n",
        "from sklearn.model_selection import train_test_split\n",
        "from sklearn.metrics import mean_absolute_error,mean_squared_error\n",
        "import warnings\n",
        "warnings.filterwarnings('ignore')\n",
        "import matplotlib.pyplot as plt\n"
      ],
      "execution_count": 18,
      "outputs": []
    },
    {
      "cell_type": "code",
      "metadata": {
        "colab": {
          "base_uri": "https://localhost:8080/",
          "height": 220
        },
        "id": "bfu7hLQjY_Xh",
        "outputId": "c146776c-c53d-45ca-f62c-3410ff5192cd"
      },
      "source": [
        "#Read the data\n",
        "data = pd.read_excel(r'/content/drive/MyDrive/assign4.xls')\n",
        "data.head()"
      ],
      "execution_count": 5,
      "outputs": [
        {
          "output_type": "stream",
          "name": "stdout",
          "text": [
            "*** No CODEPAGE record, no encoding_override: will use 'ascii'\n"
          ]
        },
        {
          "output_type": "execute_result",
          "data": {
            "text/html": [
              "<div>\n",
              "<style scoped>\n",
              "    .dataframe tbody tr th:only-of-type {\n",
              "        vertical-align: middle;\n",
              "    }\n",
              "\n",
              "    .dataframe tbody tr th {\n",
              "        vertical-align: top;\n",
              "    }\n",
              "\n",
              "    .dataframe thead th {\n",
              "        text-align: right;\n",
              "    }\n",
              "</style>\n",
              "<table border=\"1\" class=\"dataframe\">\n",
              "  <thead>\n",
              "    <tr style=\"text-align: right;\">\n",
              "      <th></th>\n",
              "      <th>X</th>\n",
              "      <th>Y</th>\n",
              "    </tr>\n",
              "  </thead>\n",
              "  <tbody>\n",
              "    <tr>\n",
              "      <th>0</th>\n",
              "      <td>7.6</td>\n",
              "      <td>157</td>\n",
              "    </tr>\n",
              "    <tr>\n",
              "      <th>1</th>\n",
              "      <td>7.1</td>\n",
              "      <td>174</td>\n",
              "    </tr>\n",
              "    <tr>\n",
              "      <th>2</th>\n",
              "      <td>8.2</td>\n",
              "      <td>175</td>\n",
              "    </tr>\n",
              "    <tr>\n",
              "      <th>3</th>\n",
              "      <td>7.5</td>\n",
              "      <td>188</td>\n",
              "    </tr>\n",
              "    <tr>\n",
              "      <th>4</th>\n",
              "      <td>7.4</td>\n",
              "      <td>171</td>\n",
              "    </tr>\n",
              "  </tbody>\n",
              "</table>\n",
              "</div>"
            ],
            "text/plain": [
              "     X    Y\n",
              "0  7.6  157\n",
              "1  7.1  174\n",
              "2  8.2  175\n",
              "3  7.5  188\n",
              "4  7.4  171"
            ]
          },
          "metadata": {},
          "execution_count": 5
        }
      ]
    },
    {
      "cell_type": "code",
      "metadata": {
        "id": "TP56FIQYbdAr"
      },
      "source": [
        "#Normalizing X column\n",
        "xmax = np.max(data['X'])\n",
        "xmin = np.min(data['X'])\n",
        "data['X'] = (data['X'] - xmin) / (xmax - xmin)"
      ],
      "execution_count": 23,
      "outputs": []
    },
    {
      "cell_type": "code",
      "metadata": {
        "id": "2FQoGVGubfT1"
      },
      "source": [
        "#Normalizing Y column\n",
        "ymax = np.max(data['Y'])\n",
        "ymin = np.min(data['Y'])\n",
        "data['Y'] = (data['Y'] - ymin) / (ymax - ymin)"
      ],
      "execution_count": 24,
      "outputs": []
    },
    {
      "cell_type": "code",
      "metadata": {
        "colab": {
          "base_uri": "https://localhost:8080/",
          "height": 203
        },
        "id": "irFW7Spabnfu",
        "outputId": "13d6e19f-4bc9-4ff2-ab0b-8393fb613852"
      },
      "source": [
        "data.head()"
      ],
      "execution_count": 8,
      "outputs": [
        {
          "output_type": "execute_result",
          "data": {
            "text/html": [
              "<div>\n",
              "<style scoped>\n",
              "    .dataframe tbody tr th:only-of-type {\n",
              "        vertical-align: middle;\n",
              "    }\n",
              "\n",
              "    .dataframe tbody tr th {\n",
              "        vertical-align: top;\n",
              "    }\n",
              "\n",
              "    .dataframe thead th {\n",
              "        text-align: right;\n",
              "    }\n",
              "</style>\n",
              "<table border=\"1\" class=\"dataframe\">\n",
              "  <thead>\n",
              "    <tr style=\"text-align: right;\">\n",
              "      <th></th>\n",
              "      <th>X</th>\n",
              "      <th>Y</th>\n",
              "    </tr>\n",
              "  </thead>\n",
              "  <tbody>\n",
              "    <tr>\n",
              "      <th>0</th>\n",
              "      <td>0.428571</td>\n",
              "      <td>0.537445</td>\n",
              "    </tr>\n",
              "    <tr>\n",
              "      <th>1</th>\n",
              "      <td>0.190476</td>\n",
              "      <td>0.612335</td>\n",
              "    </tr>\n",
              "    <tr>\n",
              "      <th>2</th>\n",
              "      <td>0.714286</td>\n",
              "      <td>0.616740</td>\n",
              "    </tr>\n",
              "    <tr>\n",
              "      <th>3</th>\n",
              "      <td>0.380952</td>\n",
              "      <td>0.674009</td>\n",
              "    </tr>\n",
              "    <tr>\n",
              "      <th>4</th>\n",
              "      <td>0.333333</td>\n",
              "      <td>0.599119</td>\n",
              "    </tr>\n",
              "  </tbody>\n",
              "</table>\n",
              "</div>"
            ],
            "text/plain": [
              "          X         Y\n",
              "0  0.428571  0.537445\n",
              "1  0.190476  0.612335\n",
              "2  0.714286  0.616740\n",
              "3  0.380952  0.674009\n",
              "4  0.333333  0.599119"
            ]
          },
          "metadata": {},
          "execution_count": 8
        }
      ]
    },
    {
      "cell_type": "code",
      "metadata": {
        "colab": {
          "base_uri": "https://localhost:8080/"
        },
        "id": "gNU8M65jbtV3",
        "outputId": "46d40c42-401a-48c6-da24-11353a5f1445"
      },
      "source": [
        "#Check for NULL values in dataframe\n",
        "data.isnull().sum()"
      ],
      "execution_count": 9,
      "outputs": [
        {
          "output_type": "execute_result",
          "data": {
            "text/plain": [
              "X    0\n",
              "Y    0\n",
              "dtype: int64"
            ]
          },
          "metadata": {},
          "execution_count": 9
        }
      ]
    },
    {
      "cell_type": "code",
      "metadata": {
        "id": "IQQUBsCVc3N5"
      },
      "source": [
        "#Split the data for testing and training\n",
        "X = data['X']\n",
        "Y = data['Y']\n",
        "xtrain, xtest, ytrain, ytest = train_test_split(X, Y, test_size=0.1, random_state=101)"
      ],
      "execution_count": 22,
      "outputs": []
    },
    {
      "cell_type": "code",
      "metadata": {
        "colab": {
          "base_uri": "https://localhost:8080/"
        },
        "id": "oriuzeCqc764",
        "outputId": "b2769812-d07d-4a6a-b6f2-4c2fa56a4920"
      },
      "source": [
        "#Initializing Learning Rate, Epochs and Model Parameters\n",
        "m = np.random.uniform(-30, 30)\n",
        "c = np.random.uniform(-30, 30)\n",
        "eeta = 0.1\n",
        "epochs = 1000\n",
        "\n",
        "#Train the model\n",
        "for _ in range(epochs):\n",
        "    for i in range(xtrain.shape[0]):\n",
        "        x, y = xtrain.iloc[i], ytrain.iloc[i]\n",
        "        gradm = -1 * x * (y - m * x - c)\n",
        "        gradc = -1 * (y - m * x - c)\n",
        "        m = m - eeta * gradm\n",
        "        c = c - eeta * gradc\n",
        "        \n",
        "#Display Model Parameters after training\n",
        "print('Model parameters :')\n",
        "print('m =', m)\n",
        "print('c =', c)"
      ],
      "execution_count": 21,
      "outputs": [
        {
          "output_type": "stream",
          "name": "stdout",
          "text": [
            "Model parameters :\n",
            "m = nan\n",
            "c = nan\n"
          ]
        }
      ]
    },
    {
      "cell_type": "code",
      "metadata": {
        "id": "h-gyuprmdB8r"
      },
      "source": [
        "#Predict Y values for training data\n",
        "ytrainPred = []\n",
        "for x in xtrain:\n",
        "    ytrainPred.append(m * x + c)\n",
        "\n",
        "#Predict Y values for testing data\n",
        "ytestPred = []\n",
        "for x in xtest:\n",
        "    ytestPred.append(m * x + c)"
      ],
      "execution_count": 12,
      "outputs": []
    },
    {
      "cell_type": "code",
      "metadata": {
        "id": "_qfl2ruwdGri"
      },
      "source": [
        "#Denormalizing training and testing data and predicted values\n",
        "xtrain = xtrain * (xmax - xmin) + xmin\n",
        "ytrain = ytrain * (ymax - ymin) + ymin\n",
        "xtest = xtest * (xmax - xmin) + xmin\n",
        "ytest = ytest * (ymax - ymin) + ymin\n",
        "ytrainPred = np.multiply(ytrainPred, (ymax - ymin)) + ymin\n",
        "ytestPred = np.multiply(ytestPred, (ymax - ymin)) + ymin"
      ],
      "execution_count": 20,
      "outputs": []
    },
    {
      "cell_type": "code",
      "metadata": {
        "colab": {
          "base_uri": "https://localhost:8080/"
        },
        "id": "UoQOcVH7dOWB",
        "outputId": "4ef2d43e-343a-42ae-ca7e-2acc9f1697fb"
      },
      "source": [
        "#Error Metrics \n",
        "MAE_Train = mean_absolute_error(ytrainPred, ytrain) #Testing MAE\n",
        "MSE_Train = mean_squared_error(ytrainPred, ytrain) #Testing MSE\n",
        "RMSE_Train = mean_squared_error(ytrainPred, ytrain) ** 0.5 #Testing RMSE\n",
        "MAE_Test = mean_absolute_error(ytestPred, ytest) #Testing MAE\n",
        "MSE_Test = mean_squared_error(ytestPred, ytest) #Testing MSE\n",
        "RMSE_Test = mean_squared_error(ytestPred, ytest) ** 0.5 #Testing RMSE\n",
        "print('Training Error after denormalization :')\n",
        "print('Mean Absolute Error :', MAE_Train)\n",
        "print('Mean Squared Error :', MSE_Train)\n",
        "print('Root Mean Squared Error :', RMSE_Train)\n",
        "print('\\nTesting Error after denormalization :')\n",
        "print('Mean Absolute Error :', MAE_Test)\n",
        "print('Mean Squared Error :', MSE_Test)\n",
        "print('Root Mean Squared Error :', RMSE_Test)"
      ],
      "execution_count": 26,
      "outputs": [
        {
          "output_type": "stream",
          "name": "stdout",
          "text": [
            "Training Error after denormalization :\n",
            "Mean Absolute Error : 31963.08423144168\n",
            "Mean Squared Error : 1046336859.4971316\n",
            "Root Mean Squared Error : 32347.13062231535\n",
            "\n",
            "Testing Error after denormalization :\n",
            "Mean Absolute Error : 29338.563247589194\n",
            "Mean Squared Error : 865475469.1918745\n",
            "Root Mean Squared Error : 29418.964447986174\n"
          ]
        }
      ]
    },
    {
      "cell_type": "code",
      "metadata": {
        "colab": {
          "base_uri": "https://localhost:8080/",
          "height": 973
        },
        "id": "yPCWOTkwdTVM",
        "outputId": "502990c9-e878-4377-8814-b51fc19b8622"
      },
      "source": [
        "#Analyze training data predictions\n",
        "pd.DataFrame({'X_Train' : xtrain, 'Y_Train' : ytrain, 'Y_Train_Prediction' : ytrainPred})"
      ],
      "execution_count": 15,
      "outputs": [
        {
          "output_type": "execute_result",
          "data": {
            "text/html": [
              "<div>\n",
              "<style scoped>\n",
              "    .dataframe tbody tr th:only-of-type {\n",
              "        vertical-align: middle;\n",
              "    }\n",
              "\n",
              "    .dataframe tbody tr th {\n",
              "        vertical-align: top;\n",
              "    }\n",
              "\n",
              "    .dataframe thead th {\n",
              "        text-align: right;\n",
              "    }\n",
              "</style>\n",
              "<table border=\"1\" class=\"dataframe\">\n",
              "  <thead>\n",
              "    <tr style=\"text-align: right;\">\n",
              "      <th></th>\n",
              "      <th>X_Train</th>\n",
              "      <th>Y_Train</th>\n",
              "      <th>Y_Train_Prediction</th>\n",
              "    </tr>\n",
              "  </thead>\n",
              "  <tbody>\n",
              "    <tr>\n",
              "      <th>29</th>\n",
              "      <td>8.5</td>\n",
              "      <td>48.0</td>\n",
              "      <td>103.401995</td>\n",
              "    </tr>\n",
              "    <tr>\n",
              "      <th>26</th>\n",
              "      <td>8.4</td>\n",
              "      <td>35.0</td>\n",
              "      <td>107.683877</td>\n",
              "    </tr>\n",
              "    <tr>\n",
              "      <th>25</th>\n",
              "      <td>7.7</td>\n",
              "      <td>113.0</td>\n",
              "      <td>137.657048</td>\n",
              "    </tr>\n",
              "    <tr>\n",
              "      <th>27</th>\n",
              "      <td>7.4</td>\n",
              "      <td>125.0</td>\n",
              "      <td>150.502692</td>\n",
              "    </tr>\n",
              "    <tr>\n",
              "      <th>33</th>\n",
              "      <td>7.3</td>\n",
              "      <td>87.0</td>\n",
              "      <td>154.784574</td>\n",
              "    </tr>\n",
              "    <tr>\n",
              "      <th>2</th>\n",
              "      <td>8.2</td>\n",
              "      <td>175.0</td>\n",
              "      <td>116.247640</td>\n",
              "    </tr>\n",
              "    <tr>\n",
              "      <th>28</th>\n",
              "      <td>7.3</td>\n",
              "      <td>76.0</td>\n",
              "      <td>154.784574</td>\n",
              "    </tr>\n",
              "    <tr>\n",
              "      <th>19</th>\n",
              "      <td>7.9</td>\n",
              "      <td>155.0</td>\n",
              "      <td>129.093285</td>\n",
              "    </tr>\n",
              "    <tr>\n",
              "      <th>16</th>\n",
              "      <td>8.5</td>\n",
              "      <td>82.0</td>\n",
              "      <td>103.401995</td>\n",
              "    </tr>\n",
              "    <tr>\n",
              "      <th>10</th>\n",
              "      <td>8.1</td>\n",
              "      <td>215.0</td>\n",
              "      <td>120.529521</td>\n",
              "    </tr>\n",
              "    <tr>\n",
              "      <th>3</th>\n",
              "      <td>7.5</td>\n",
              "      <td>188.0</td>\n",
              "      <td>146.220811</td>\n",
              "    </tr>\n",
              "    <tr>\n",
              "      <th>1</th>\n",
              "      <td>7.1</td>\n",
              "      <td>174.0</td>\n",
              "      <td>163.348337</td>\n",
              "    </tr>\n",
              "    <tr>\n",
              "      <th>22</th>\n",
              "      <td>7.2</td>\n",
              "      <td>133.0</td>\n",
              "      <td>159.066455</td>\n",
              "    </tr>\n",
              "    <tr>\n",
              "      <th>12</th>\n",
              "      <td>7.3</td>\n",
              "      <td>262.0</td>\n",
              "      <td>154.784574</td>\n",
              "    </tr>\n",
              "    <tr>\n",
              "      <th>5</th>\n",
              "      <td>7.8</td>\n",
              "      <td>143.0</td>\n",
              "      <td>133.375166</td>\n",
              "    </tr>\n",
              "    <tr>\n",
              "      <th>14</th>\n",
              "      <td>7.3</td>\n",
              "      <td>121.0</td>\n",
              "      <td>154.784574</td>\n",
              "    </tr>\n",
              "    <tr>\n",
              "      <th>0</th>\n",
              "      <td>7.6</td>\n",
              "      <td>157.0</td>\n",
              "      <td>141.938929</td>\n",
              "    </tr>\n",
              "    <tr>\n",
              "      <th>21</th>\n",
              "      <td>8.8</td>\n",
              "      <td>147.0</td>\n",
              "      <td>90.556351</td>\n",
              "    </tr>\n",
              "    <tr>\n",
              "      <th>24</th>\n",
              "      <td>8.1</td>\n",
              "      <td>56.0</td>\n",
              "      <td>120.529521</td>\n",
              "    </tr>\n",
              "    <tr>\n",
              "      <th>4</th>\n",
              "      <td>7.4</td>\n",
              "      <td>171.0</td>\n",
              "      <td>150.502692</td>\n",
              "    </tr>\n",
              "    <tr>\n",
              "      <th>8</th>\n",
              "      <td>7.1</td>\n",
              "      <td>142.0</td>\n",
              "      <td>163.348337</td>\n",
              "    </tr>\n",
              "    <tr>\n",
              "      <th>13</th>\n",
              "      <td>7.8</td>\n",
              "      <td>105.0</td>\n",
              "      <td>133.375166</td>\n",
              "    </tr>\n",
              "    <tr>\n",
              "      <th>9</th>\n",
              "      <td>7.5</td>\n",
              "      <td>190.0</td>\n",
              "      <td>146.220811</td>\n",
              "    </tr>\n",
              "    <tr>\n",
              "      <th>15</th>\n",
              "      <td>8.0</td>\n",
              "      <td>81.0</td>\n",
              "      <td>124.811403</td>\n",
              "    </tr>\n",
              "    <tr>\n",
              "      <th>32</th>\n",
              "      <td>7.1</td>\n",
              "      <td>182.0</td>\n",
              "      <td>163.348337</td>\n",
              "    </tr>\n",
              "    <tr>\n",
              "      <th>23</th>\n",
              "      <td>7.9</td>\n",
              "      <td>53.0</td>\n",
              "      <td>129.093285</td>\n",
              "    </tr>\n",
              "    <tr>\n",
              "      <th>6</th>\n",
              "      <td>7.3</td>\n",
              "      <td>217.0</td>\n",
              "      <td>154.784574</td>\n",
              "    </tr>\n",
              "    <tr>\n",
              "      <th>17</th>\n",
              "      <td>7.1</td>\n",
              "      <td>210.0</td>\n",
              "      <td>163.348337</td>\n",
              "    </tr>\n",
              "    <tr>\n",
              "      <th>11</th>\n",
              "      <td>7.0</td>\n",
              "      <td>199.0</td>\n",
              "      <td>167.630218</td>\n",
              "    </tr>\n",
              "    <tr>\n",
              "      <th>31</th>\n",
              "      <td>6.7</td>\n",
              "      <td>117.0</td>\n",
              "      <td>180.475863</td>\n",
              "    </tr>\n",
              "  </tbody>\n",
              "</table>\n",
              "</div>"
            ],
            "text/plain": [
              "    X_Train  Y_Train  Y_Train_Prediction\n",
              "29      8.5     48.0          103.401995\n",
              "26      8.4     35.0          107.683877\n",
              "25      7.7    113.0          137.657048\n",
              "27      7.4    125.0          150.502692\n",
              "33      7.3     87.0          154.784574\n",
              "2       8.2    175.0          116.247640\n",
              "28      7.3     76.0          154.784574\n",
              "19      7.9    155.0          129.093285\n",
              "16      8.5     82.0          103.401995\n",
              "10      8.1    215.0          120.529521\n",
              "3       7.5    188.0          146.220811\n",
              "1       7.1    174.0          163.348337\n",
              "22      7.2    133.0          159.066455\n",
              "12      7.3    262.0          154.784574\n",
              "5       7.8    143.0          133.375166\n",
              "14      7.3    121.0          154.784574\n",
              "0       7.6    157.0          141.938929\n",
              "21      8.8    147.0           90.556351\n",
              "24      8.1     56.0          120.529521\n",
              "4       7.4    171.0          150.502692\n",
              "8       7.1    142.0          163.348337\n",
              "13      7.8    105.0          133.375166\n",
              "9       7.5    190.0          146.220811\n",
              "15      8.0     81.0          124.811403\n",
              "32      7.1    182.0          163.348337\n",
              "23      7.9     53.0          129.093285\n",
              "6       7.3    217.0          154.784574\n",
              "17      7.1    210.0          163.348337\n",
              "11      7.0    199.0          167.630218\n",
              "31      6.7    117.0          180.475863"
            ]
          },
          "metadata": {},
          "execution_count": 15
        }
      ]
    },
    {
      "cell_type": "code",
      "metadata": {
        "colab": {
          "base_uri": "https://localhost:8080/",
          "height": 172
        },
        "id": "aC7vF4dudshz",
        "outputId": "097d5cc0-9535-4312-a047-fc4ad3e1e963"
      },
      "source": [
        "#Analyze testing data predictions\n",
        "pd.DataFrame({'X_Test' : xtest,'Y_Test' : ytest,'Y_Test_Prediction' : ytestPred})"
      ],
      "execution_count": 25,
      "outputs": [
        {
          "output_type": "execute_result",
          "data": {
            "text/html": [
              "<div>\n",
              "<style scoped>\n",
              "    .dataframe tbody tr th:only-of-type {\n",
              "        vertical-align: middle;\n",
              "    }\n",
              "\n",
              "    .dataframe tbody tr th {\n",
              "        vertical-align: top;\n",
              "    }\n",
              "\n",
              "    .dataframe thead th {\n",
              "        text-align: right;\n",
              "    }\n",
              "</style>\n",
              "<table border=\"1\" class=\"dataframe\">\n",
              "  <thead>\n",
              "    <tr style=\"text-align: right;\">\n",
              "      <th></th>\n",
              "      <th>X_Test</th>\n",
              "      <th>Y_Test</th>\n",
              "      <th>Y_Test_Prediction</th>\n",
              "    </tr>\n",
              "  </thead>\n",
              "  <tbody>\n",
              "    <tr>\n",
              "      <th>18</th>\n",
              "      <td>0.714286</td>\n",
              "      <td>0.735683</td>\n",
              "      <td>26423.214267</td>\n",
              "    </tr>\n",
              "    <tr>\n",
              "      <th>7</th>\n",
              "      <td>0.619048</td>\n",
              "      <td>0.682819</td>\n",
              "      <td>28367.188477</td>\n",
              "    </tr>\n",
              "    <tr>\n",
              "      <th>20</th>\n",
              "      <td>0.428571</td>\n",
              "      <td>0.537445</td>\n",
              "      <td>32255.136897</td>\n",
              "    </tr>\n",
              "    <tr>\n",
              "      <th>30</th>\n",
              "      <td>0.523810</td>\n",
              "      <td>0.493392</td>\n",
              "      <td>30311.162687</td>\n",
              "    </tr>\n",
              "  </tbody>\n",
              "</table>\n",
              "</div>"
            ],
            "text/plain": [
              "      X_Test    Y_Test  Y_Test_Prediction\n",
              "18  0.714286  0.735683       26423.214267\n",
              "7   0.619048  0.682819       28367.188477\n",
              "20  0.428571  0.537445       32255.136897\n",
              "30  0.523810  0.493392       30311.162687"
            ]
          },
          "metadata": {},
          "execution_count": 25
        }
      ]
    },
    {
      "cell_type": "code",
      "metadata": {
        "colab": {
          "base_uri": "https://localhost:8080/",
          "height": 265
        },
        "id": "5byu2qXudvXf",
        "outputId": "9cbdfa3e-64b6-4f25-9771-71df2b4dd20c"
      },
      "source": [
        "#Plotting the graph\n",
        "plt.scatter(np.array(xtrain, xtest), np.array(ytrain, ytest))\n",
        "x = np.array([i/10 for i in range(65, 90)])\n",
        "y = (m * (x - xmin) / (xmax - xmin) +c) * (ymax - ymin) + ymin\n",
        "plt.plot(x, y)\n",
        "plt.show()"
      ],
      "execution_count": 19,
      "outputs": [
        {
          "output_type": "display_data",
          "data": {
            "image/png": "[encoded data removed]",
            "text/plain": [
              "<Figure size 432x288 with 1 Axes>"
            ]
          },
          "metadata": {
            "needs_background": "light"
          }
        }
      ]
    }
  ]
}