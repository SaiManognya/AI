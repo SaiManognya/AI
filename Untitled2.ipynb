{
  "nbformat": 4,
  "nbformat_minor": 0,
  "metadata": {
    "colab": {
      "name": "Untitled2.ipynb",
      "provenance": [],
      "authorship_tag": "ABX9TyOtfWPLsr9xZXw4xK2EBuGX",
      "include_colab_link": true
    },
    "kernelspec": {
      "name": "python3",
      "display_name": "Python 3"
    },
    "language_info": {
      "name": "python"
    }
  },
  "cells": [
    {
      "cell_type": "markdown",
      "metadata": {
        "id": "view-in-github",
        "colab_type": "text"
      },
      "source": [
        "<a href=\"https://colab.research.google.com/github/SaiManognya/AI/blob/main/Untitled2.ipynb\" target=\"_parent\"><img src=\"https://colab.research.google.com/assets/colab-badge.svg\" alt=\"Open In Colab\"/></a>"
      ]
    },
    {
      "cell_type": "code",
      "metadata": {
        "id": "yq34OAwm2EnO",
        "colab": {
          "base_uri": "https://localhost:8080/"
        },
        "outputId": "71dab0ea-d5e1-4435-8d7b-d835a12e5d7e"
      },
      "source": [
        "import numpy as np\n",
        "x=np.random.uniform(-5,5)\n",
        "eta=0.1\n",
        "itermax=2\n",
        "iter=1\n",
        "while iter<=itermax:\n",
        "  slope=4*x*x*x + 2*x\n",
        "  step_length=-eta*slope\n",
        "  x=x+step_length\n",
        "  iter=iter+1\n",
        "print(\"control variable=\",round(x))\n",
        "obj=x*x*x*x + 3*x*x + 10\n",
        "print(\"objective function=\",round(obj))"
      ],
      "execution_count": 4,
      "outputs": [
        {
          "output_type": "stream",
          "name": "stdout",
          "text": [
            "control variable= 1561\n",
            "objective function= 5940926242469\n"
          ]
        }
      ]
    }
  ]
}