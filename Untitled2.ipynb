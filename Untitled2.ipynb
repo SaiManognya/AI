{
  "nbformat": 4,
  "nbformat_minor": 0,
  "metadata": {
    "colab": {
      "name": "Untitled2.ipynb",
      "provenance": [],
      "authorship_tag": "ABX9TyOQZF84/VHMcZimHMbDCDcK",
      "include_colab_link": true
    },
    "kernelspec": {
      "name": "python3",
      "display_name": "Python 3"
    },
    "language_info": {
      "name": "python"
    }
  },
  "cells": [
    {
      "cell_type": "markdown",
      "metadata": {
        "id": "view-in-github",
        "colab_type": "text"
      },
      "source": [
        "<a href=\"https://colab.research.google.com/github/SaiManognya/AI/blob/main/Untitled2.ipynb\" target=\"_parent\"><img src=\"https://colab.research.google.com/assets/colab-badge.svg\" alt=\"Open In Colab\"/></a>"
      ]
    },
    {
      "cell_type": "code",
      "metadata": {
        "id": "yq34OAwm2EnO",
        "colab": {
          "base_uri": "https://localhost:8080/"
        },
        "outputId": "6dc0287d-f750-47b4-e3c0-471e59bb900b"
      },
      "source": [
        "import numpy as np\n",
        "x=np.random.uniform(-5,5)\n",
        "eta=0.1\n",
        "itermax=2\n",
        "iter=1\n",
        "while iter<=itermax:\n",
        "  slope=(4*x*x*x) + (6*x)\n",
        "  step_length=-eta*slope\n",
        "  x=x+step_length\n",
        "  iter=iter+1\n",
        "print(\"control variable=\",round(x))\n",
        "obj=(x*x*x*x) + (3*x*x) + 10\n",
        "print(\"objective function=\",obj)"
      ],
      "execution_count": 7,
      "outputs": [
        {
          "output_type": "stream",
          "name": "stdout",
          "text": [
            "control variable= 0\n",
            "objective function= 10.012184554538692\n"
          ]
        }
      ]
    }
  ]
}