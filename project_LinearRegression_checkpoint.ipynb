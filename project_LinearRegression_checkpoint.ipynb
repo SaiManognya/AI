{
  "nbformat": 4,
  "nbformat_minor": 5,
  "metadata": {
    "kernelspec": {
      "display_name": "Python 3",
      "language": "python",
      "name": "python3"
    },
    "language_info": {
      "codemirror_mode": {
        "name": "ipython",
        "version": 3
      },
      "file_extension": ".py",
      "mimetype": "text/x-python",
      "name": "python",
      "nbconvert_exporter": "python",
      "pygments_lexer": "ipython3",
      "version": "3.8.10"
    },
    "colab": {
      "name": "project_LinearRegression-checkpoint.ipynb",
      "provenance": [],
      "include_colab_link": true
    }
  },
  "cells": [
    {
      "cell_type": "markdown",
      "metadata": {
        "id": "view-in-github",
        "colab_type": "text"
      },
      "source": [
        "<a href=\"https://colab.research.google.com/github/SaiManognya/AI/blob/main/project_LinearRegression_checkpoint.ipynb\" target=\"_parent\"><img src=\"https://colab.research.google.com/assets/colab-badge.svg\" alt=\"Open In Colab\"/></a>"
      ]
    },
    {
      "cell_type": "code",
      "metadata": {
        "id": "4f1cb6c5"
      },
      "source": [
        "import pandas as pd\n",
        "import numpy as np\n",
        "import import_ipynb\n",
        "from model import LinearRegression"
      ],
      "id": "4f1cb6c5",
      "execution_count": null,
      "outputs": []
    },
    {
      "cell_type": "code",
      "metadata": {
        "id": "6529db5b",
        "outputId": "88a8709a-a42c-4894-ae0f-b60a1338cdf2"
      },
      "source": [
        "physio = pd.read_excel('physio.xlsx')\n",
        "physio.head()"
      ],
      "id": "6529db5b",
      "execution_count": null,
      "outputs": [
        {
          "data": {
            "text/html": [
              "<div>\n",
              "<style scoped>\n",
              "    .dataframe tbody tr th:only-of-type {\n",
              "        vertical-align: middle;\n",
              "    }\n",
              "\n",
              "    .dataframe tbody tr th {\n",
              "        vertical-align: top;\n",
              "    }\n",
              "\n",
              "    .dataframe thead th {\n",
              "        text-align: right;\n",
              "    }\n",
              "</style>\n",
              "<table border=\"1\" class=\"dataframe\">\n",
              "  <thead>\n",
              "    <tr style=\"text-align: right;\">\n",
              "      <th></th>\n",
              "      <th>Unnamed: 0</th>\n",
              "      <th>Unnamed: 1</th>\n",
              "      <th>Unnamed: 2</th>\n",
              "      <th>Unnamed: 3</th>\n",
              "      <th>Unnamed: 4</th>\n",
              "      <th>Unnamed: 5</th>\n",
              "      <th>Unnamed: 6</th>\n",
              "      <th>Unnamed: 7</th>\n",
              "    </tr>\n",
              "  </thead>\n",
              "  <tbody>\n",
              "    <tr>\n",
              "      <th>0</th>\n",
              "      <td>NaN</td>\n",
              "      <td>Age</td>\n",
              "      <td>Affected body part</td>\n",
              "      <td>Diagnosis</td>\n",
              "      <td>Duration of pain</td>\n",
              "      <td>Intensity of pain</td>\n",
              "      <td>Treatment approach</td>\n",
              "      <td>Duration of treatment</td>\n",
              "    </tr>\n",
              "    <tr>\n",
              "      <th>1</th>\n",
              "      <td>NaN</td>\n",
              "      <td>24</td>\n",
              "      <td>knee</td>\n",
              "      <td>patella fracture</td>\n",
              "      <td>chronic</td>\n",
              "      <td>9 on nrps</td>\n",
              "      <td>manual and mechanical</td>\n",
              "      <td>22 days</td>\n",
              "    </tr>\n",
              "    <tr>\n",
              "      <th>2</th>\n",
              "      <td>NaN</td>\n",
              "      <td>35</td>\n",
              "      <td>knee</td>\n",
              "      <td>patella fracture</td>\n",
              "      <td>chronic</td>\n",
              "      <td>6 on nrps</td>\n",
              "      <td>manual</td>\n",
              "      <td>40 days</td>\n",
              "    </tr>\n",
              "    <tr>\n",
              "      <th>3</th>\n",
              "      <td>NaN</td>\n",
              "      <td>26</td>\n",
              "      <td>knee</td>\n",
              "      <td>patella fracture</td>\n",
              "      <td>chronic</td>\n",
              "      <td>8 on nprs</td>\n",
              "      <td>mechanical</td>\n",
              "      <td>31 days</td>\n",
              "    </tr>\n",
              "    <tr>\n",
              "      <th>4</th>\n",
              "      <td>NaN</td>\n",
              "      <td>21</td>\n",
              "      <td>knee</td>\n",
              "      <td>patella fracture</td>\n",
              "      <td>subacute</td>\n",
              "      <td>7 on nprs</td>\n",
              "      <td>manual and mechanical</td>\n",
              "      <td>15 days</td>\n",
              "    </tr>\n",
              "  </tbody>\n",
              "</table>\n",
              "</div>"
            ],
            "text/plain": [
              "   Unnamed: 0 Unnamed: 1          Unnamed: 2        Unnamed: 3  \\\n",
              "0         NaN        Age  Affected body part         Diagnosis   \n",
              "1         NaN         24                knee  patella fracture   \n",
              "2         NaN         35                knee  patella fracture   \n",
              "3         NaN         26                knee  patella fracture   \n",
              "4         NaN         21                knee  patella fracture   \n",
              "\n",
              "         Unnamed: 4         Unnamed: 5             Unnamed: 6  \\\n",
              "0  Duration of pain  Intensity of pain     Treatment approach   \n",
              "1           chronic          9 on nrps  manual and mechanical   \n",
              "2           chronic          6 on nrps                 manual   \n",
              "3           chronic          8 on nprs             mechanical   \n",
              "4          subacute          7 on nprs  manual and mechanical   \n",
              "\n",
              "              Unnamed: 7  \n",
              "0  Duration of treatment  \n",
              "1                22 days  \n",
              "2                40 days  \n",
              "3                31 days  \n",
              "4                15 days  "
            ]
          },
          "execution_count": 21,
          "metadata": {},
          "output_type": "execute_result"
        }
      ]
    },
    {
      "cell_type": "code",
      "metadata": {
        "id": "f67bb95f",
        "outputId": "fe655f9b-9e47-493f-e997-e06c802e887e"
      },
      "source": [
        "physio.columns = physio.iloc[0]\n",
        "physio.drop(0, inplace=True)\n",
        "physio.head()"
      ],
      "id": "f67bb95f",
      "execution_count": null,
      "outputs": [
        {
          "data": {
            "text/html": [
              "<div>\n",
              "<style scoped>\n",
              "    .dataframe tbody tr th:only-of-type {\n",
              "        vertical-align: middle;\n",
              "    }\n",
              "\n",
              "    .dataframe tbody tr th {\n",
              "        vertical-align: top;\n",
              "    }\n",
              "\n",
              "    .dataframe thead th {\n",
              "        text-align: right;\n",
              "    }\n",
              "</style>\n",
              "<table border=\"1\" class=\"dataframe\">\n",
              "  <thead>\n",
              "    <tr style=\"text-align: right;\">\n",
              "      <th></th>\n",
              "      <th>NaN</th>\n",
              "      <th>Age</th>\n",
              "      <th>Affected body part</th>\n",
              "      <th>Diagnosis</th>\n",
              "      <th>Duration of pain</th>\n",
              "      <th>Intensity of pain</th>\n",
              "      <th>Treatment approach</th>\n",
              "      <th>Duration of treatment</th>\n",
              "    </tr>\n",
              "  </thead>\n",
              "  <tbody>\n",
              "    <tr>\n",
              "      <th>1</th>\n",
              "      <td>NaN</td>\n",
              "      <td>24</td>\n",
              "      <td>knee</td>\n",
              "      <td>patella fracture</td>\n",
              "      <td>chronic</td>\n",
              "      <td>9 on nrps</td>\n",
              "      <td>manual and mechanical</td>\n",
              "      <td>22 days</td>\n",
              "    </tr>\n",
              "    <tr>\n",
              "      <th>2</th>\n",
              "      <td>NaN</td>\n",
              "      <td>35</td>\n",
              "      <td>knee</td>\n",
              "      <td>patella fracture</td>\n",
              "      <td>chronic</td>\n",
              "      <td>6 on nrps</td>\n",
              "      <td>manual</td>\n",
              "      <td>40 days</td>\n",
              "    </tr>\n",
              "    <tr>\n",
              "      <th>3</th>\n",
              "      <td>NaN</td>\n",
              "      <td>26</td>\n",
              "      <td>knee</td>\n",
              "      <td>patella fracture</td>\n",
              "      <td>chronic</td>\n",
              "      <td>8 on nprs</td>\n",
              "      <td>mechanical</td>\n",
              "      <td>31 days</td>\n",
              "    </tr>\n",
              "    <tr>\n",
              "      <th>4</th>\n",
              "      <td>NaN</td>\n",
              "      <td>21</td>\n",
              "      <td>knee</td>\n",
              "      <td>patella fracture</td>\n",
              "      <td>subacute</td>\n",
              "      <td>7 on nprs</td>\n",
              "      <td>manual and mechanical</td>\n",
              "      <td>15 days</td>\n",
              "    </tr>\n",
              "    <tr>\n",
              "      <th>5</th>\n",
              "      <td>NaN</td>\n",
              "      <td>48</td>\n",
              "      <td>knee</td>\n",
              "      <td>patella fracture</td>\n",
              "      <td>subacute</td>\n",
              "      <td>8 on nprs</td>\n",
              "      <td>manual and mechanical</td>\n",
              "      <td>17 days</td>\n",
              "    </tr>\n",
              "  </tbody>\n",
              "</table>\n",
              "</div>"
            ],
            "text/plain": [
              "0  NaN Age Affected body part         Diagnosis Duration of pain  \\\n",
              "1  NaN  24               knee  patella fracture          chronic   \n",
              "2  NaN  35               knee  patella fracture          chronic   \n",
              "3  NaN  26               knee  patella fracture          chronic   \n",
              "4  NaN  21               knee  patella fracture         subacute   \n",
              "5  NaN  48               knee  patella fracture         subacute   \n",
              "\n",
              "0 Intensity of pain     Treatment approach Duration of treatment  \n",
              "1         9 on nrps  manual and mechanical               22 days  \n",
              "2         6 on nrps                 manual               40 days  \n",
              "3         8 on nprs             mechanical               31 days  \n",
              "4         7 on nprs  manual and mechanical               15 days  \n",
              "5         8 on nprs  manual and mechanical               17 days  "
            ]
          },
          "execution_count": 22,
          "metadata": {},
          "output_type": "execute_result"
        }
      ]
    },
    {
      "cell_type": "code",
      "metadata": {
        "id": "a5e91c3c",
        "outputId": "1fa53b84-b4a7-461f-8c4e-8507d306654f"
      },
      "source": [
        "physio = physio[physio.columns[1:]]\n",
        "physio.head()"
      ],
      "id": "a5e91c3c",
      "execution_count": null,
      "outputs": [
        {
          "data": {
            "text/html": [
              "<div>\n",
              "<style scoped>\n",
              "    .dataframe tbody tr th:only-of-type {\n",
              "        vertical-align: middle;\n",
              "    }\n",
              "\n",
              "    .dataframe tbody tr th {\n",
              "        vertical-align: top;\n",
              "    }\n",
              "\n",
              "    .dataframe thead th {\n",
              "        text-align: right;\n",
              "    }\n",
              "</style>\n",
              "<table border=\"1\" class=\"dataframe\">\n",
              "  <thead>\n",
              "    <tr style=\"text-align: right;\">\n",
              "      <th></th>\n",
              "      <th>Age</th>\n",
              "      <th>Affected body part</th>\n",
              "      <th>Diagnosis</th>\n",
              "      <th>Duration of pain</th>\n",
              "      <th>Intensity of pain</th>\n",
              "      <th>Treatment approach</th>\n",
              "      <th>Duration of treatment</th>\n",
              "    </tr>\n",
              "  </thead>\n",
              "  <tbody>\n",
              "    <tr>\n",
              "      <th>1</th>\n",
              "      <td>24</td>\n",
              "      <td>knee</td>\n",
              "      <td>patella fracture</td>\n",
              "      <td>chronic</td>\n",
              "      <td>9 on nrps</td>\n",
              "      <td>manual and mechanical</td>\n",
              "      <td>22 days</td>\n",
              "    </tr>\n",
              "    <tr>\n",
              "      <th>2</th>\n",
              "      <td>35</td>\n",
              "      <td>knee</td>\n",
              "      <td>patella fracture</td>\n",
              "      <td>chronic</td>\n",
              "      <td>6 on nrps</td>\n",
              "      <td>manual</td>\n",
              "      <td>40 days</td>\n",
              "    </tr>\n",
              "    <tr>\n",
              "      <th>3</th>\n",
              "      <td>26</td>\n",
              "      <td>knee</td>\n",
              "      <td>patella fracture</td>\n",
              "      <td>chronic</td>\n",
              "      <td>8 on nprs</td>\n",
              "      <td>mechanical</td>\n",
              "      <td>31 days</td>\n",
              "    </tr>\n",
              "    <tr>\n",
              "      <th>4</th>\n",
              "      <td>21</td>\n",
              "      <td>knee</td>\n",
              "      <td>patella fracture</td>\n",
              "      <td>subacute</td>\n",
              "      <td>7 on nprs</td>\n",
              "      <td>manual and mechanical</td>\n",
              "      <td>15 days</td>\n",
              "    </tr>\n",
              "    <tr>\n",
              "      <th>5</th>\n",
              "      <td>48</td>\n",
              "      <td>knee</td>\n",
              "      <td>patella fracture</td>\n",
              "      <td>subacute</td>\n",
              "      <td>8 on nprs</td>\n",
              "      <td>manual and mechanical</td>\n",
              "      <td>17 days</td>\n",
              "    </tr>\n",
              "  </tbody>\n",
              "</table>\n",
              "</div>"
            ],
            "text/plain": [
              "0 Age Affected body part         Diagnosis Duration of pain Intensity of pain  \\\n",
              "1  24               knee  patella fracture          chronic         9 on nrps   \n",
              "2  35               knee  patella fracture          chronic         6 on nrps   \n",
              "3  26               knee  patella fracture          chronic         8 on nprs   \n",
              "4  21               knee  patella fracture         subacute         7 on nprs   \n",
              "5  48               knee  patella fracture         subacute         8 on nprs   \n",
              "\n",
              "0     Treatment approach Duration of treatment  \n",
              "1  manual and mechanical               22 days  \n",
              "2                 manual               40 days  \n",
              "3             mechanical               31 days  \n",
              "4  manual and mechanical               15 days  \n",
              "5  manual and mechanical               17 days  "
            ]
          },
          "execution_count": 23,
          "metadata": {},
          "output_type": "execute_result"
        }
      ]
    },
    {
      "cell_type": "code",
      "metadata": {
        "id": "740248c6",
        "outputId": "cbddc96c-5e6b-40a7-d745-ded58bff2816"
      },
      "source": [
        "physio['Intensity of pain'] = physio['Intensity of pain'].apply(lambda x:int(x.split()[0]))\n",
        "physio['Duration of treatment'] = physio['Duration of treatment'].apply(lambda x:int(x.split()[0]))\n",
        "physio.head()"
      ],
      "id": "740248c6",
      "execution_count": null,
      "outputs": [
        {
          "ename": "NameError",
          "evalue": "name 'data' is not defined",
          "output_type": "error",
          "traceback": [
            "\u001b[0;31m---------------------------------------------------------------------------\u001b[0m",
            "\u001b[0;31mNameError\u001b[0m                                 Traceback (most recent call last)",
            "\u001b[0;32m<ipython-input-6-5e410ada92e1>\u001b[0m in \u001b[0;36m<module>\u001b[0;34m\u001b[0m\n\u001b[1;32m      1\u001b[0m \u001b[0mphysio\u001b[0m\u001b[0;34m[\u001b[0m\u001b[0;34m'Intensity of pain'\u001b[0m\u001b[0;34m]\u001b[0m \u001b[0;34m=\u001b[0m \u001b[0mphysio\u001b[0m\u001b[0;34m[\u001b[0m\u001b[0;34m'Intensity of pain'\u001b[0m\u001b[0;34m]\u001b[0m\u001b[0;34m.\u001b[0m\u001b[0mapply\u001b[0m\u001b[0;34m(\u001b[0m\u001b[0;32mlambda\u001b[0m \u001b[0mx\u001b[0m\u001b[0;34m:\u001b[0m\u001b[0mint\u001b[0m\u001b[0;34m(\u001b[0m\u001b[0mx\u001b[0m\u001b[0;34m.\u001b[0m\u001b[0msplit\u001b[0m\u001b[0;34m(\u001b[0m\u001b[0;34m)\u001b[0m\u001b[0;34m[\u001b[0m\u001b[0;36m0\u001b[0m\u001b[0;34m]\u001b[0m\u001b[0;34m)\u001b[0m\u001b[0;34m)\u001b[0m\u001b[0;34m\u001b[0m\u001b[0;34m\u001b[0m\u001b[0m\n\u001b[1;32m      2\u001b[0m \u001b[0mphysio\u001b[0m\u001b[0;34m[\u001b[0m\u001b[0;34m'Duration of treatment'\u001b[0m\u001b[0;34m]\u001b[0m \u001b[0;34m=\u001b[0m \u001b[0mphysio\u001b[0m\u001b[0;34m[\u001b[0m\u001b[0;34m'Duration of treatment'\u001b[0m\u001b[0;34m]\u001b[0m\u001b[0;34m.\u001b[0m\u001b[0mapply\u001b[0m\u001b[0;34m(\u001b[0m\u001b[0;32mlambda\u001b[0m \u001b[0mx\u001b[0m\u001b[0;34m:\u001b[0m\u001b[0mint\u001b[0m\u001b[0;34m(\u001b[0m\u001b[0mx\u001b[0m\u001b[0;34m.\u001b[0m\u001b[0msplit\u001b[0m\u001b[0;34m(\u001b[0m\u001b[0;34m)\u001b[0m\u001b[0;34m[\u001b[0m\u001b[0;36m0\u001b[0m\u001b[0;34m]\u001b[0m\u001b[0;34m)\u001b[0m\u001b[0;34m)\u001b[0m\u001b[0;34m\u001b[0m\u001b[0;34m\u001b[0m\u001b[0m\n\u001b[0;32m----> 3\u001b[0;31m \u001b[0mdata\u001b[0m\u001b[0;34m.\u001b[0m\u001b[0mhead\u001b[0m\u001b[0;34m(\u001b[0m\u001b[0;34m)\u001b[0m\u001b[0;34m\u001b[0m\u001b[0;34m\u001b[0m\u001b[0m\n\u001b[0m",
            "\u001b[0;31mNameError\u001b[0m: name 'data' is not defined"
          ]
        }
      ]
    },
    {
      "cell_type": "code",
      "metadata": {
        "id": "62b47334",
        "outputId": "3f2ea4d5-9cac-458c-fa02-6f013dd23a46"
      },
      "source": [
        "diagnosis = pd.get_dummies(physio['Diagnosis'], drop_first=True)\n",
        "physio = pd.concat([physio, diagnosis], axis = 1)\n",
        "physio.drop(['Diagnosis'], axis = 1, inplace = True)\n",
        "physio.head()"
      ],
      "id": "62b47334",
      "execution_count": null,
      "outputs": [
        {
          "data": {
            "text/html": [
              "<div>\n",
              "<style scoped>\n",
              "    .dataframe tbody tr th:only-of-type {\n",
              "        vertical-align: middle;\n",
              "    }\n",
              "\n",
              "    .dataframe tbody tr th {\n",
              "        vertical-align: top;\n",
              "    }\n",
              "\n",
              "    .dataframe thead th {\n",
              "        text-align: right;\n",
              "    }\n",
              "</style>\n",
              "<table border=\"1\" class=\"dataframe\">\n",
              "  <thead>\n",
              "    <tr style=\"text-align: right;\">\n",
              "      <th></th>\n",
              "      <th>Age</th>\n",
              "      <th>Affected body part</th>\n",
              "      <th>Duration of pain</th>\n",
              "      <th>Intensity of pain</th>\n",
              "      <th>Treatment approach</th>\n",
              "      <th>Duration of treatment</th>\n",
              "      <th>frozen shoulder</th>\n",
              "      <th>jennis elbow</th>\n",
              "      <th>lumbar rediculopathy</th>\n",
              "      <th>osteoarthritis</th>\n",
              "      <th>patella fracture</th>\n",
              "    </tr>\n",
              "  </thead>\n",
              "  <tbody>\n",
              "    <tr>\n",
              "      <th>1</th>\n",
              "      <td>24</td>\n",
              "      <td>knee</td>\n",
              "      <td>chronic</td>\n",
              "      <td>9</td>\n",
              "      <td>manual and mechanical</td>\n",
              "      <td>22</td>\n",
              "      <td>0</td>\n",
              "      <td>0</td>\n",
              "      <td>0</td>\n",
              "      <td>0</td>\n",
              "      <td>1</td>\n",
              "    </tr>\n",
              "    <tr>\n",
              "      <th>2</th>\n",
              "      <td>35</td>\n",
              "      <td>knee</td>\n",
              "      <td>chronic</td>\n",
              "      <td>6</td>\n",
              "      <td>manual</td>\n",
              "      <td>40</td>\n",
              "      <td>0</td>\n",
              "      <td>0</td>\n",
              "      <td>0</td>\n",
              "      <td>0</td>\n",
              "      <td>1</td>\n",
              "    </tr>\n",
              "    <tr>\n",
              "      <th>3</th>\n",
              "      <td>26</td>\n",
              "      <td>knee</td>\n",
              "      <td>chronic</td>\n",
              "      <td>8</td>\n",
              "      <td>mechanical</td>\n",
              "      <td>31</td>\n",
              "      <td>0</td>\n",
              "      <td>0</td>\n",
              "      <td>0</td>\n",
              "      <td>0</td>\n",
              "      <td>1</td>\n",
              "    </tr>\n",
              "    <tr>\n",
              "      <th>4</th>\n",
              "      <td>21</td>\n",
              "      <td>knee</td>\n",
              "      <td>subacute</td>\n",
              "      <td>7</td>\n",
              "      <td>manual and mechanical</td>\n",
              "      <td>15</td>\n",
              "      <td>0</td>\n",
              "      <td>0</td>\n",
              "      <td>0</td>\n",
              "      <td>0</td>\n",
              "      <td>1</td>\n",
              "    </tr>\n",
              "    <tr>\n",
              "      <th>5</th>\n",
              "      <td>48</td>\n",
              "      <td>knee</td>\n",
              "      <td>subacute</td>\n",
              "      <td>8</td>\n",
              "      <td>manual and mechanical</td>\n",
              "      <td>17</td>\n",
              "      <td>0</td>\n",
              "      <td>0</td>\n",
              "      <td>0</td>\n",
              "      <td>0</td>\n",
              "      <td>1</td>\n",
              "    </tr>\n",
              "  </tbody>\n",
              "</table>\n",
              "</div>"
            ],
            "text/plain": [
              "  Age Affected body part Duration of pain  Intensity of pain  \\\n",
              "1  24               knee          chronic                  9   \n",
              "2  35               knee          chronic                  6   \n",
              "3  26               knee          chronic                  8   \n",
              "4  21               knee         subacute                  7   \n",
              "5  48               knee         subacute                  8   \n",
              "\n",
              "      Treatment approach  Duration of treatment  frozen shoulder  \\\n",
              "1  manual and mechanical                     22                0   \n",
              "2                 manual                     40                0   \n",
              "3             mechanical                     31                0   \n",
              "4  manual and mechanical                     15                0   \n",
              "5  manual and mechanical                     17                0   \n",
              "\n",
              "   jennis elbow  lumbar rediculopathy  osteoarthritis  patella fracture  \n",
              "1             0                     0               0                 1  \n",
              "2             0                     0               0                 1  \n",
              "3             0                     0               0                 1  \n",
              "4             0                     0               0                 1  \n",
              "5             0                     0               0                 1  "
            ]
          },
          "execution_count": 7,
          "metadata": {},
          "output_type": "execute_result"
        }
      ]
    },
    {
      "cell_type": "code",
      "metadata": {
        "id": "64ab6c5f",
        "outputId": "0d5a6a82-b564-49a6-d900-0cf3ee684b79"
      },
      "source": [
        "physio['Treatment approach'].replace(['manual','mechanical','manual and mechanical'], [0,1,2], inplace=True)\n",
        "physio['Duration of pain'].replace(['acute','subacute','chronic'], [0,1,2], inplace=True)\n",
        "physio.head()"
      ],
      "id": "64ab6c5f",
      "execution_count": null,
      "outputs": [
        {
          "data": {
            "text/html": [
              "<div>\n",
              "<style scoped>\n",
              "    .dataframe tbody tr th:only-of-type {\n",
              "        vertical-align: middle;\n",
              "    }\n",
              "\n",
              "    .dataframe tbody tr th {\n",
              "        vertical-align: top;\n",
              "    }\n",
              "\n",
              "    .dataframe thead th {\n",
              "        text-align: right;\n",
              "    }\n",
              "</style>\n",
              "<table border=\"1\" class=\"dataframe\">\n",
              "  <thead>\n",
              "    <tr style=\"text-align: right;\">\n",
              "      <th></th>\n",
              "      <th>Age</th>\n",
              "      <th>Affected body part</th>\n",
              "      <th>Duration of pain</th>\n",
              "      <th>Intensity of pain</th>\n",
              "      <th>Treatment approach</th>\n",
              "      <th>Duration of treatment</th>\n",
              "      <th>frozen shoulder</th>\n",
              "      <th>jennis elbow</th>\n",
              "      <th>lumbar rediculopathy</th>\n",
              "      <th>osteoarthritis</th>\n",
              "      <th>patella fracture</th>\n",
              "    </tr>\n",
              "  </thead>\n",
              "  <tbody>\n",
              "    <tr>\n",
              "      <th>1</th>\n",
              "      <td>24</td>\n",
              "      <td>knee</td>\n",
              "      <td>2</td>\n",
              "      <td>9</td>\n",
              "      <td>2</td>\n",
              "      <td>22</td>\n",
              "      <td>0</td>\n",
              "      <td>0</td>\n",
              "      <td>0</td>\n",
              "      <td>0</td>\n",
              "      <td>1</td>\n",
              "    </tr>\n",
              "    <tr>\n",
              "      <th>2</th>\n",
              "      <td>35</td>\n",
              "      <td>knee</td>\n",
              "      <td>2</td>\n",
              "      <td>6</td>\n",
              "      <td>0</td>\n",
              "      <td>40</td>\n",
              "      <td>0</td>\n",
              "      <td>0</td>\n",
              "      <td>0</td>\n",
              "      <td>0</td>\n",
              "      <td>1</td>\n",
              "    </tr>\n",
              "    <tr>\n",
              "      <th>3</th>\n",
              "      <td>26</td>\n",
              "      <td>knee</td>\n",
              "      <td>2</td>\n",
              "      <td>8</td>\n",
              "      <td>1</td>\n",
              "      <td>31</td>\n",
              "      <td>0</td>\n",
              "      <td>0</td>\n",
              "      <td>0</td>\n",
              "      <td>0</td>\n",
              "      <td>1</td>\n",
              "    </tr>\n",
              "    <tr>\n",
              "      <th>4</th>\n",
              "      <td>21</td>\n",
              "      <td>knee</td>\n",
              "      <td>1</td>\n",
              "      <td>7</td>\n",
              "      <td>2</td>\n",
              "      <td>15</td>\n",
              "      <td>0</td>\n",
              "      <td>0</td>\n",
              "      <td>0</td>\n",
              "      <td>0</td>\n",
              "      <td>1</td>\n",
              "    </tr>\n",
              "    <tr>\n",
              "      <th>5</th>\n",
              "      <td>48</td>\n",
              "      <td>knee</td>\n",
              "      <td>1</td>\n",
              "      <td>8</td>\n",
              "      <td>2</td>\n",
              "      <td>17</td>\n",
              "      <td>0</td>\n",
              "      <td>0</td>\n",
              "      <td>0</td>\n",
              "      <td>0</td>\n",
              "      <td>1</td>\n",
              "    </tr>\n",
              "  </tbody>\n",
              "</table>\n",
              "</div>"
            ],
            "text/plain": [
              "  Age Affected body part  Duration of pain  Intensity of pain  \\\n",
              "1  24               knee                 2                  9   \n",
              "2  35               knee                 2                  6   \n",
              "3  26               knee                 2                  8   \n",
              "4  21               knee                 1                  7   \n",
              "5  48               knee                 1                  8   \n",
              "\n",
              "   Treatment approach  Duration of treatment  frozen shoulder  jennis elbow  \\\n",
              "1                   2                     22                0             0   \n",
              "2                   0                     40                0             0   \n",
              "3                   1                     31                0             0   \n",
              "4                   2                     15                0             0   \n",
              "5                   2                     17                0             0   \n",
              "\n",
              "   lumbar rediculopathy  osteoarthritis  patella fracture  \n",
              "1                     0               0                 1  \n",
              "2                     0               0                 1  \n",
              "3                     0               0                 1  \n",
              "4                     0               0                 1  \n",
              "5                     0               0                 1  "
            ]
          },
          "execution_count": 8,
          "metadata": {},
          "output_type": "execute_result"
        }
      ]
    },
    {
      "cell_type": "code",
      "metadata": {
        "id": "3f7a2895",
        "outputId": "80728cf2-46db-40c8-c057-0a48b801c8f5"
      },
      "source": [
        "physio.isnull().sum()"
      ],
      "id": "3f7a2895",
      "execution_count": null,
      "outputs": [
        {
          "data": {
            "text/plain": [
              "Age                      46\n",
              "Affected body part        0\n",
              "Duration of pain          0\n",
              "Intensity of pain         0\n",
              "Treatment approach        0\n",
              "Duration of treatment     0\n",
              "frozen shoulder           0\n",
              "jennis elbow              0\n",
              "lumbar rediculopathy      0\n",
              "osteoarthritis            0\n",
              "patella fracture          0\n",
              "dtype: int64"
            ]
          },
          "execution_count": 9,
          "metadata": {},
          "output_type": "execute_result"
        }
      ]
    },
    {
      "cell_type": "code",
      "metadata": {
        "id": "42ec000d",
        "outputId": "3d68449e-92b3-46dc-f784-f7b72d0fcb0e"
      },
      "source": [
        "physio.drop(['Age','Affected body part'], axis=1, inplace=True)\n",
        "physio.head()"
      ],
      "id": "42ec000d",
      "execution_count": null,
      "outputs": [
        {
          "data": {
            "text/html": [
              "<div>\n",
              "<style scoped>\n",
              "    .dataframe tbody tr th:only-of-type {\n",
              "        vertical-align: middle;\n",
              "    }\n",
              "\n",
              "    .dataframe tbody tr th {\n",
              "        vertical-align: top;\n",
              "    }\n",
              "\n",
              "    .dataframe thead th {\n",
              "        text-align: right;\n",
              "    }\n",
              "</style>\n",
              "<table border=\"1\" class=\"dataframe\">\n",
              "  <thead>\n",
              "    <tr style=\"text-align: right;\">\n",
              "      <th></th>\n",
              "      <th>Duration of pain</th>\n",
              "      <th>Intensity of pain</th>\n",
              "      <th>Treatment approach</th>\n",
              "      <th>Duration of treatment</th>\n",
              "      <th>frozen shoulder</th>\n",
              "      <th>jennis elbow</th>\n",
              "      <th>lumbar rediculopathy</th>\n",
              "      <th>osteoarthritis</th>\n",
              "      <th>patella fracture</th>\n",
              "    </tr>\n",
              "  </thead>\n",
              "  <tbody>\n",
              "    <tr>\n",
              "      <th>1</th>\n",
              "      <td>2</td>\n",
              "      <td>9</td>\n",
              "      <td>2</td>\n",
              "      <td>22</td>\n",
              "      <td>0</td>\n",
              "      <td>0</td>\n",
              "      <td>0</td>\n",
              "      <td>0</td>\n",
              "      <td>1</td>\n",
              "    </tr>\n",
              "    <tr>\n",
              "      <th>2</th>\n",
              "      <td>2</td>\n",
              "      <td>6</td>\n",
              "      <td>0</td>\n",
              "      <td>40</td>\n",
              "      <td>0</td>\n",
              "      <td>0</td>\n",
              "      <td>0</td>\n",
              "      <td>0</td>\n",
              "      <td>1</td>\n",
              "    </tr>\n",
              "    <tr>\n",
              "      <th>3</th>\n",
              "      <td>2</td>\n",
              "      <td>8</td>\n",
              "      <td>1</td>\n",
              "      <td>31</td>\n",
              "      <td>0</td>\n",
              "      <td>0</td>\n",
              "      <td>0</td>\n",
              "      <td>0</td>\n",
              "      <td>1</td>\n",
              "    </tr>\n",
              "    <tr>\n",
              "      <th>4</th>\n",
              "      <td>1</td>\n",
              "      <td>7</td>\n",
              "      <td>2</td>\n",
              "      <td>15</td>\n",
              "      <td>0</td>\n",
              "      <td>0</td>\n",
              "      <td>0</td>\n",
              "      <td>0</td>\n",
              "      <td>1</td>\n",
              "    </tr>\n",
              "    <tr>\n",
              "      <th>5</th>\n",
              "      <td>1</td>\n",
              "      <td>8</td>\n",
              "      <td>2</td>\n",
              "      <td>17</td>\n",
              "      <td>0</td>\n",
              "      <td>0</td>\n",
              "      <td>0</td>\n",
              "      <td>0</td>\n",
              "      <td>1</td>\n",
              "    </tr>\n",
              "  </tbody>\n",
              "</table>\n",
              "</div>"
            ],
            "text/plain": [
              "   Duration of pain  Intensity of pain  Treatment approach  \\\n",
              "1                 2                  9                   2   \n",
              "2                 2                  6                   0   \n",
              "3                 2                  8                   1   \n",
              "4                 1                  7                   2   \n",
              "5                 1                  8                   2   \n",
              "\n",
              "   Duration of treatment  frozen shoulder  jennis elbow  lumbar rediculopathy  \\\n",
              "1                     22                0             0                     0   \n",
              "2                     40                0             0                     0   \n",
              "3                     31                0             0                     0   \n",
              "4                     15                0             0                     0   \n",
              "5                     17                0             0                     0   \n",
              "\n",
              "   osteoarthritis  patella fracture  \n",
              "1               0                 1  \n",
              "2               0                 1  \n",
              "3               0                 1  \n",
              "4               0                 1  \n",
              "5               0                 1  "
            ]
          },
          "execution_count": 10,
          "metadata": {},
          "output_type": "execute_result"
        }
      ]
    },
    {
      "cell_type": "code",
      "metadata": {
        "id": "4977421b",
        "outputId": "f04ce4ca-6b9e-4dbc-b0bf-e36ebeee66de"
      },
      "source": [
        "def normalize(column):\n",
        "    c_max, c_min = np.max(column), np.min(column)\n",
        "    for i in range(len(column)):\n",
        "        column.iloc[i] = (column.iloc[i] - c_min) / (c_max - c_min)\n",
        "    return c_max, c_min\n",
        "\n",
        "#Normalize all columns of dataset and store max and min values for denormalizing later\n",
        "dmax, dmin = normalize(physio['Duration of pain'])\n",
        "imax, imin = normalize(physio['Intensity of pain'])\n",
        "treatmax, treatmin = normalize(physio['Duration of treatment'])\n",
        "appmax, appmin = normalize(physio['Treatment approach'])"
      ],
      "id": "4977421b",
      "execution_count": null,
      "outputs": [
        {
          "name": "stderr",
          "output_type": "stream",
          "text": [
            "/usr/lib/python3/dist-packages/pandas/core/indexing.py:205: SettingWithCopyWarning: \n",
            "A value is trying to be set on a copy of a slice from a DataFrame\n",
            "\n",
            "See the caveats in the documentation: http://pandas.pydata.org/pandas-docs/stable/user_guide/indexing.html#returning-a-view-versus-a-copy\n",
            "  self._setitem_with_indexer(indexer, value)\n"
          ]
        }
      ]
    },
    {
      "cell_type": "code",
      "metadata": {
        "id": "d06e569f"
      },
      "source": [
        "x = physio.drop(['Duration of treatment'], axis=1)\n",
        "y = physio['Duration of treatment']\n",
        "from sklearn.model_selection import train_test_split\n",
        "xtrain,xtest,ytrain,ytest = train_test_split(x,y,test_size=0.2,random_state=105)"
      ],
      "id": "d06e569f",
      "execution_count": null,
      "outputs": []
    },
    {
      "cell_type": "code",
      "metadata": {
        "id": "94c10643"
      },
      "source": [
        "model = LinearRegression()\n",
        "model.train(xtrain,ytrain)"
      ],
      "id": "94c10643",
      "execution_count": null,
      "outputs": []
    },
    {
      "cell_type": "code",
      "metadata": {
        "id": "5a1da801",
        "outputId": "a251e193-f88a-4738-db8a-b20f71e71583"
      },
      "source": [
        "from sklearn.metrics import mean_absolute_error, mean_squared_error\n",
        "def denormalize(maxv,minv,column):\n",
        "    for i in range(len(column)):\n",
        "        column[i]=column[i] * (maxv-minv) + minv\n",
        "    return column\n",
        "pred_Train = model.predict(xtrain)\n",
        "pred_Test = model.predict(xtest)\n",
        "ytrain=denormalize(treatmax,treatmin,list(ytrain))\n",
        "ytest=denormalize(treatmax,treatmin,list(ytest))\n",
        "pred_Train=denormalize(treatmax,treatmin,pred_Train)\n",
        "pred_Test=denormalize(treatmax,treatmin,pred_Test)\n",
        "pred_Train = [round(i) for i in pred_Train]\n",
        "pred_Test = [round(i) for i in pred_Test]\n",
        "print('Training Error:')\n",
        "print('MAE =', mean_absolute_error(pred_Train, ytrain))\n",
        "print('MSE =', mean_squared_error(pred_Train, ytrain))\n",
        "print('RMSE =', mean_squared_error(pred_Train, ytrain) ** 0.5)\n",
        "print('Testing Error:')\n",
        "print('MAE =', mean_absolute_error(pred_Test, ytest))\n",
        "print('MSE =', mean_squared_error(pred_Test, ytest))\n",
        "print('RMSE =', mean_squared_error(pred_Test, ytest) ** 0.5)"
      ],
      "id": "5a1da801",
      "execution_count": null,
      "outputs": [
        {
          "name": "stdout",
          "output_type": "stream",
          "text": [
            "Training Error:\n",
            "MAE = 1.7203791469194314\n",
            "MSE = 6.57345971563981\n",
            "RMSE = 2.563875916584071\n",
            "Testing Error:\n",
            "MAE = 1.5660377358490567\n",
            "MSE = 5.30188679245283\n",
            "RMSE = 2.302582635314709\n"
          ]
        }
      ]
    },
    {
      "cell_type": "code",
      "metadata": {
        "id": "fb5d2d3b",
        "outputId": "24624b07-a337-4fea-9601-6749776c78c6"
      },
      "source": [
        "model.predict([1,0.5,0.5,0,0,0,1,0]) * (treatmax - treatmin) + treatmin"
      ],
      "id": "fb5d2d3b",
      "execution_count": null,
      "outputs": [
        {
          "data": {
            "text/plain": [
              "10.833116207094058"
            ]
          },
          "execution_count": 17,
          "metadata": {},
          "output_type": "execute_result"
        }
      ]
    },
    {
      "cell_type": "code",
      "metadata": {
        "id": "5653efe0",
        "outputId": "e05a9b74-a286-47f2-8a60-69487f9a6df8"
      },
      "source": [
        "model.predict(xtest.iloc[1])* (treatmax - treatmin) + treatmin"
      ],
      "id": "5653efe0",
      "execution_count": null,
      "outputs": [
        {
          "data": {
            "text/plain": [
              "6.979353866845627"
            ]
          },
          "execution_count": 18,
          "metadata": {},
          "output_type": "execute_result"
        }
      ]
    },
    {
      "cell_type": "code",
      "metadata": {
        "id": "d232bc62"
      },
      "source": [
        ""
      ],
      "id": "d232bc62",
      "execution_count": null,
      "outputs": []
    },
    {
      "cell_type": "code",
      "metadata": {
        "id": "a46cde68"
      },
      "source": [
        ""
      ],
      "id": "a46cde68",
      "execution_count": null,
      "outputs": []
    }
  ]
}