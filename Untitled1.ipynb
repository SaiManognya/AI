{
  "nbformat": 4,
  "nbformat_minor": 0,
  "metadata": {
    "colab": {
      "name": "Untitled1.ipynb",
      "provenance": [],
      "collapsed_sections": [],
      "authorship_tag": "ABX9TyNDLLp0SHRx7h+p/ee5Pr6w",
      "include_colab_link": true
    },
    "kernelspec": {
      "name": "python3",
      "display_name": "Python 3"
    },
    "language_info": {
      "name": "python"
    }
  },
  "cells": [
    {
      "cell_type": "markdown",
      "metadata": {
        "id": "view-in-github",
        "colab_type": "text"
      },
      "source": [
        "<a href=\"https://colab.research.google.com/github/SaiManognya/AI/blob/main/Untitled1.ipynb\" target=\"_parent\"><img src=\"https://colab.research.google.com/assets/colab-badge.svg\" alt=\"Open In Colab\"/></a>"
      ]
    },
    {
      "cell_type": "code",
      "metadata": {
        "colab": {
          "base_uri": "https://localhost:8080/"
        },
        "id": "EX8lkNKfyS26",
        "outputId": "6d1ac151-aee9-4e70-9b70-e923bc01e406"
      },
      "source": [
        "from scipy.optimize import linprog\n",
        "obj=[-50,-120]\n",
        "A_ieq=[[7000,2000],[10,30],[1,1]]\n",
        "b_ieq=[700000,1200,110]\n",
        "bound=[(0,float('inf')),(0,float('inf'))]\n",
        "opt=linprog(c=obj,A_ub=A_ieq,b_ub=b_ieq,A_eq=None,b_eq=None,bounds=bound,method=\"Simplex\")\n",
        "i=round(opt.x[0])\n",
        "j=round(opt.x[1])\n",
        "print('The no.of hectares Wheat requires:',i)\n",
        "print('The no.of hectares Barley requires:',j)\n",
        "print('The maximum profit the farmer can make is:',abs((obj[0]*i)+(obj[1]*j)))"
      ],
      "execution_count": 10,
      "outputs": [
        {
          "output_type": "stream",
          "text": [
            "The no.of hectares Wheat requires: 98\n",
            "The no.of hectares Barley requires: 7\n",
            "The maximum profit the farmer can make is: 5740\n"
          ],
          "name": "stdout"
        }
      ]
    }
  ]
}